{
  "metadata": {
    "kernelspec": {
      "language": "python",
      "display_name": "Python 3",
      "name": "python3"
    },
    "language_info": {
      "name": "python",
      "version": "3.10.13",
      "mimetype": "text/x-python",
      "codemirror_mode": {
        "name": "ipython",
        "version": 3
      },
      "pygments_lexer": "ipython3",
      "nbconvert_exporter": "python",
      "file_extension": ".py"
    },
    "kaggle": {
      "accelerator": "none",
      "dataSources": [
        {
          "sourceId": 62928,
          "databundleVersionId": 6856479,
          "sourceType": "competition"
        }
      ],
      "dockerImageVersionId": 30646,
      "isInternetEnabled": true,
      "language": "python",
      "sourceType": "notebook",
      "isGpuEnabled": false
    },
    "colab": {
      "name": "house_prices",
      "provenance": [],
      "include_colab_link": true
    }
  },
  "nbformat_minor": 0,
  "nbformat": 4,
  "cells": [
    {
      "cell_type": "markdown",
      "metadata": {
        "id": "view-in-github",
        "colab_type": "text"
      },
      "source": [
        "<a href=\"https://colab.research.google.com/github/ser-kostas/Python-Machine-Learning/blob/main/house_prices.ipynb\" target=\"_parent\"><img src=\"https://colab.research.google.com/assets/colab-badge.svg\" alt=\"Open In Colab\"/></a>"
      ]
    },
    {
      "source": [
        "\n",
        "# IMPORTANT: RUN THIS CELL IN ORDER TO IMPORT YOUR KAGGLE DATA SOURCES\n",
        "# TO THE CORRECT LOCATION (/kaggle/input) IN YOUR NOTEBOOK,\n",
        "# THEN FEEL FREE TO DELETE THIS CELL.\n",
        "# NOTE: THIS NOTEBOOK ENVIRONMENT DIFFERS FROM KAGGLE'S PYTHON\n",
        "# ENVIRONMENT SO THERE MAY BE MISSING LIBRARIES USED BY YOUR\n",
        "# NOTEBOOK.\n",
        "\n",
        "import os\n",
        "import sys\n",
        "from tempfile import NamedTemporaryFile\n",
        "from urllib.request import urlopen\n",
        "from urllib.parse import unquote, urlparse\n",
        "from urllib.error import HTTPError\n",
        "from zipfile import ZipFile\n",
        "import tarfile\n",
        "import shutil\n",
        "\n",
        "CHUNK_SIZE = 40960\n",
        "DATA_SOURCE_MAPPING = 'simple-housing-price-prediction:https%3A%2F%2Fstorage.googleapis.com%2Fkaggle-competitions-data%2Fkaggle-v2%2F62928%2F6856479%2Fbundle%2Farchive.zip%3FX-Goog-Algorithm%3DGOOG4-RSA-SHA256%26X-Goog-Credential%3Dgcp-kaggle-com%2540kaggle-161607.iam.gserviceaccount.com%252F20240223%252Fauto%252Fstorage%252Fgoog4_request%26X-Goog-Date%3D20240223T145852Z%26X-Goog-Expires%3D259200%26X-Goog-SignedHeaders%3Dhost%26X-Goog-Signature%3D5372ff71dbaf97155701819ff0fbb37f4de43f9dc7c2f82d134c477023d605b6b716fc58daff38f6b22fc447b7d3a5136d711308dba46c8df35e6f78cf00cfcd66833238f58ea9580f1e119b3b5574b4ff8132f38ab90379f05558543930325e1edd6757a317ce7e8f1451e47acc667fd5c346a67e710346b1a945ea04271763712a379047bcbc43eaf9405ab1fca7efa918d87c1850b921b51ba11c53b3160c5acc3575a021b8c9e6437a34490a78f38965e858079b8b290cb970afbaf1b5a3da2e4f621ad7c184eb9eb5634789b87b2044e014b111627696de6b284efc3c25f22ca2dd60ece7cfd188490df9d70d9b52af75f8e504517bdcac40bd91b06d7c'\n",
        "\n",
        "KAGGLE_INPUT_PATH='/kaggle/input'\n",
        "KAGGLE_WORKING_PATH='/kaggle/working'\n",
        "KAGGLE_SYMLINK='kaggle'\n",
        "\n",
        "!umount /kaggle/input/ 2> /dev/null\n",
        "shutil.rmtree('/kaggle/input', ignore_errors=True)\n",
        "os.makedirs(KAGGLE_INPUT_PATH, 0o777, exist_ok=True)\n",
        "os.makedirs(KAGGLE_WORKING_PATH, 0o777, exist_ok=True)\n",
        "\n",
        "try:\n",
        "  os.symlink(KAGGLE_INPUT_PATH, os.path.join(\"..\", 'input'), target_is_directory=True)\n",
        "except FileExistsError:\n",
        "  pass\n",
        "try:\n",
        "  os.symlink(KAGGLE_WORKING_PATH, os.path.join(\"..\", 'working'), target_is_directory=True)\n",
        "except FileExistsError:\n",
        "  pass\n",
        "\n",
        "for data_source_mapping in DATA_SOURCE_MAPPING.split(','):\n",
        "    directory, download_url_encoded = data_source_mapping.split(':')\n",
        "    download_url = unquote(download_url_encoded)\n",
        "    filename = urlparse(download_url).path\n",
        "    destination_path = os.path.join(KAGGLE_INPUT_PATH, directory)\n",
        "    try:\n",
        "        with urlopen(download_url) as fileres, NamedTemporaryFile() as tfile:\n",
        "            total_length = fileres.headers['content-length']\n",
        "            print(f'Downloading {directory}, {total_length} bytes compressed')\n",
        "            dl = 0\n",
        "            data = fileres.read(CHUNK_SIZE)\n",
        "            while len(data) > 0:\n",
        "                dl += len(data)\n",
        "                tfile.write(data)\n",
        "                done = int(50 * dl / int(total_length))\n",
        "                sys.stdout.write(f\"\\r[{'=' * done}{' ' * (50-done)}] {dl} bytes downloaded\")\n",
        "                sys.stdout.flush()\n",
        "                data = fileres.read(CHUNK_SIZE)\n",
        "            if filename.endswith('.zip'):\n",
        "              with ZipFile(tfile) as zfile:\n",
        "                zfile.extractall(destination_path)\n",
        "            else:\n",
        "              with tarfile.open(tfile.name) as tarfile:\n",
        "                tarfile.extractall(destination_path)\n",
        "            print(f'\\nDownloaded and uncompressed: {directory}')\n",
        "    except HTTPError as e:\n",
        "        print(f'Failed to load (likely expired) {download_url} to path {destination_path}')\n",
        "        continue\n",
        "    except OSError as e:\n",
        "        print(f'Failed to load {download_url} to path {destination_path}')\n",
        "        continue\n",
        "\n",
        "print('Data source import complete.')\n"
      ],
      "metadata": {
        "id": "SeWs163iegJt"
      },
      "cell_type": "code",
      "outputs": [],
      "execution_count": null
    },
    {
      "cell_type": "code",
      "source": [
        "# This Python 3 environment comes with many helpful analytics libraries installed\n",
        "# Standard\n",
        "import numpy as np\n",
        "import pandas as pd\n",
        "\n",
        "# Feature engineering\n",
        "from sklearn.preprocessing import StandardScaler\n",
        "\n",
        "# Machine learning\n",
        "from sklearn import linear_model\n",
        "from sklearn.model_selection import train_test_split\n",
        "\n",
        "# Model evaluation\n",
        "from sklearn.metrics import mean_absolute_error\n",
        "\n",
        "# Utility\n",
        "import random\n",
        "import time\n",
        "\n",
        "# Input data files are available in the read-only \"../input/\" directory\n",
        "# For example, running this (by clicking run or pressing Shift+Enter) will list all files under the input directory\n",
        "\n",
        "import os\n",
        "for dirname, _, filenames in os.walk('/kaggle/input'):\n",
        "    for filename in filenames:\n",
        "        print(os.path.join(dirname, filename))\n",
        "\n",
        "\n",
        "\n",
        "# You can write up to 20GB to the current directory (/kaggle/working/) that gets preserved as output when you create a version using \"Save & Run All\"\n",
        "# You can also write temporary files to /kaggle/temp/, but they won't be saved outside of the current session"
      ],
      "metadata": {
        "_uuid": "8f2839f25d086af736a60e9eeb907d3b93b6e0e5",
        "_cell_guid": "b1076dfc-b9ad-4769-8c92-a6c4dae69d19",
        "execution": {
          "iopub.status.busy": "2024-02-23T13:30:25.970631Z",
          "iopub.execute_input": "2024-02-23T13:30:25.971061Z",
          "iopub.status.idle": "2024-02-23T13:30:25.980583Z",
          "shell.execute_reply.started": "2024-02-23T13:30:25.97103Z",
          "shell.execute_reply": "2024-02-23T13:30:25.97919Z"
        },
        "trusted": true,
        "id": "GlNGyx0begJ0"
      },
      "execution_count": null,
      "outputs": []
    },
    {
      "cell_type": "code",
      "source": [
        "#Reading the data from the csv files\n",
        "sample_data = pd.read_csv('/kaggle/input/simple-housing-price-prediction/sample_submission.csv')\n",
        "train_set = pd.read_csv('/kaggle/input/simple-housing-price-prediction/train.csv')\n",
        "test_set = pd.read_csv('/kaggle/input/simple-housing-price-prediction/test.csv')"
      ],
      "metadata": {
        "execution": {
          "iopub.status.busy": "2024-02-23T13:30:28.914764Z",
          "iopub.execute_input": "2024-02-23T13:30:28.916069Z",
          "iopub.status.idle": "2024-02-23T13:30:29.980037Z",
          "shell.execute_reply.started": "2024-02-23T13:30:28.916034Z",
          "shell.execute_reply": "2024-02-23T13:30:29.978919Z"
        },
        "trusted": true,
        "id": "Xqzks60JegJ1"
      },
      "execution_count": null,
      "outputs": []
    },
    {
      "cell_type": "code",
      "source": [
        "def feature_engineering(df, droppable_columns, numerical_columns, categorical_columns):\n",
        "    # Drop irrelevant columns\n",
        "    df = df.drop(droppable_columns, axis=1)\n",
        "\n",
        "    # Standardization\n",
        "    scaler = StandardScaler()\n",
        "    df[numerical_columns] = scaler.fit_transform(df[numerical_columns])\n",
        "\n",
        "    df = pd.get_dummies(df, columns=categorical_columns, drop_first=True)\n",
        "\n",
        "    return df"
      ],
      "metadata": {
        "execution": {
          "iopub.status.busy": "2024-02-23T13:30:34.707229Z",
          "iopub.execute_input": "2024-02-23T13:30:34.707753Z",
          "iopub.status.idle": "2024-02-23T13:30:34.714555Z",
          "shell.execute_reply.started": "2024-02-23T13:30:34.707709Z",
          "shell.execute_reply": "2024-02-23T13:30:34.713566Z"
        },
        "trusted": true,
        "id": "b7hbSMymegJ1"
      },
      "execution_count": null,
      "outputs": []
    },
    {
      "cell_type": "code",
      "source": [
        "droppable_columns = ['house_id', 'date', 'block', 'storey_range', 'street']\n",
        "numerical_columns = ['area_sqm', 'commence_date', 'area_sqm']\n",
        "categorical_columns = ['location', 'type', 'flat_model']\n",
        "train_fe = feature_engineering(train_set, droppable_columns, numerical_columns, categorical_columns)"
      ],
      "metadata": {
        "execution": {
          "iopub.status.busy": "2024-02-23T13:32:23.855879Z",
          "iopub.execute_input": "2024-02-23T13:32:23.856473Z",
          "iopub.status.idle": "2024-02-23T13:32:23.994998Z",
          "shell.execute_reply.started": "2024-02-23T13:32:23.856435Z",
          "shell.execute_reply": "2024-02-23T13:32:23.993768Z"
        },
        "trusted": true,
        "id": "4KgBEMpYegJ2"
      },
      "execution_count": null,
      "outputs": []
    },
    {
      "cell_type": "code",
      "source": [
        "train_fe"
      ],
      "metadata": {
        "execution": {
          "iopub.status.busy": "2024-02-23T13:32:28.274213Z",
          "iopub.execute_input": "2024-02-23T13:32:28.274747Z",
          "iopub.status.idle": "2024-02-23T13:32:28.318553Z",
          "shell.execute_reply.started": "2024-02-23T13:32:28.274677Z",
          "shell.execute_reply": "2024-02-23T13:32:28.317217Z"
        },
        "trusted": true,
        "id": "Vwjp7KE0egJ3"
      },
      "execution_count": null,
      "outputs": []
    },
    {
      "cell_type": "code",
      "source": [
        "linreg = linear_model.LinearRegression()\n",
        "\n",
        "# Spliting the test set\n",
        "train_df, val_df = train_test_split(train_fe, test_size=0.2)\n",
        "\n",
        "# Setting the target value\n",
        "target = 'price'\n",
        "\n",
        "X_train = train_df.drop([target], axis=1)\n",
        "y_train = train_df[target]\n",
        "\n",
        "X_val = val_df.drop([target], axis=1)\n",
        "y_val = val_df[target]\n",
        "\n",
        "# Running the model\n",
        "linreg.fit(X_train, y_train)\n",
        "\n",
        "y_val_preds = linreg.predict(X_val)"
      ],
      "metadata": {
        "execution": {
          "iopub.status.busy": "2024-02-23T13:32:37.691304Z",
          "iopub.execute_input": "2024-02-23T13:32:37.69174Z",
          "iopub.status.idle": "2024-02-23T13:32:38.753239Z",
          "shell.execute_reply.started": "2024-02-23T13:32:37.691709Z",
          "shell.execute_reply": "2024-02-23T13:32:38.75193Z"
        },
        "trusted": true,
        "id": "82d9YycsegJ3"
      },
      "execution_count": null,
      "outputs": []
    },
    {
      "cell_type": "code",
      "source": [
        "# Calculating the mean absolute error to validate the prediction\n",
        "mae = mean_absolute_error(y_val, y_val_preds)\n",
        "print(f\"Mean Absolute Error {mae: ,}\")"
      ],
      "metadata": {
        "execution": {
          "iopub.status.busy": "2024-02-23T14:06:01.535711Z",
          "iopub.execute_input": "2024-02-23T14:06:01.536196Z",
          "iopub.status.idle": "2024-02-23T14:06:01.546208Z",
          "shell.execute_reply.started": "2024-02-23T14:06:01.536161Z",
          "shell.execute_reply": "2024-02-23T14:06:01.544765Z"
        },
        "trusted": true,
        "id": "6TEtYcGdegJ4"
      },
      "execution_count": null,
      "outputs": []
    },
    {
      "cell_type": "code",
      "source": [
        "# Trying a new prediction model\n",
        "from sklearn.ensemble import RandomForestRegressor\n",
        "\n",
        "#Split data as before\n",
        "train_df, val_df = train_test_split(train_fe, test_size=0.2)\n",
        "\n",
        "# Setting the target value\n",
        "target = 'price'\n",
        "\n",
        "X_train = train_df.drop([target], axis=1)\n",
        "y_train = train_df[target]\n",
        "\n",
        "X_val = val_df.drop([target], axis=1)\n",
        "y_val = val_df[target]\n",
        "\n",
        "# Create a randomForest model\n",
        "rf = RandomForestRegressor()"
      ],
      "metadata": {
        "execution": {
          "iopub.status.busy": "2024-02-23T13:32:44.28476Z",
          "iopub.execute_input": "2024-02-23T13:32:44.285151Z",
          "iopub.status.idle": "2024-02-23T13:32:44.553145Z",
          "shell.execute_reply.started": "2024-02-23T13:32:44.285119Z",
          "shell.execute_reply": "2024-02-23T13:32:44.552091Z"
        },
        "trusted": true,
        "id": "E-wtYe9regJ4"
      },
      "execution_count": null,
      "outputs": []
    },
    {
      "cell_type": "code",
      "source": [
        "# Fit the model\n",
        "rf.fit(X_train, y_train)\n",
        "\n",
        "#Make predictions\n",
        "y_pred_rf = rf.predict(X_val)\n",
        "\n",
        "# Calculating the mean absolute error to validate the prediction\n",
        "mae = mean_absolute_error(y_val, y_pred_rf)\n",
        "print(f\"Mean Absolute Error {mae: ,}\")"
      ],
      "metadata": {
        "execution": {
          "iopub.status.busy": "2024-02-23T13:32:48.750102Z",
          "iopub.execute_input": "2024-02-23T13:32:48.750559Z",
          "iopub.status.idle": "2024-02-23T13:34:28.65917Z",
          "shell.execute_reply.started": "2024-02-23T13:32:48.750528Z",
          "shell.execute_reply": "2024-02-23T13:34:28.657783Z"
        },
        "trusted": true,
        "id": "S324biMDegJ5"
      },
      "execution_count": null,
      "outputs": []
    },
    {
      "cell_type": "code",
      "source": [
        "import matplotlib.pyplot as plt\n",
        "plt.hist(train_set['price'], bins=20)"
      ],
      "metadata": {
        "execution": {
          "iopub.status.busy": "2024-02-23T13:42:11.492841Z",
          "iopub.execute_input": "2024-02-23T13:42:11.493285Z",
          "iopub.status.idle": "2024-02-23T13:42:11.71123Z",
          "shell.execute_reply.started": "2024-02-23T13:42:11.493249Z",
          "shell.execute_reply": "2024-02-23T13:42:11.709783Z"
        },
        "trusted": true,
        "id": "kqpbiapDegJ5"
      },
      "execution_count": null,
      "outputs": []
    },
    {
      "cell_type": "code",
      "source": [
        "plt.scatter(train_set['area_sqm'],train_set['price'])\n",
        "plt.xlabel('Area')\n",
        "plt.ylabel('Price')\n",
        "plt.show()"
      ],
      "metadata": {
        "execution": {
          "iopub.status.busy": "2024-02-23T13:42:42.490215Z",
          "iopub.execute_input": "2024-02-23T13:42:42.490707Z",
          "iopub.status.idle": "2024-02-23T13:42:43.25508Z",
          "shell.execute_reply.started": "2024-02-23T13:42:42.490652Z",
          "shell.execute_reply": "2024-02-23T13:42:43.253583Z"
        },
        "trusted": true,
        "id": "w5JCG-yNegJ5"
      },
      "execution_count": null,
      "outputs": []
    },
    {
      "cell_type": "code",
      "source": [
        "# Use SelectKBest to find out what indexes is better to use\n",
        "from sklearn.feature_selection import SelectKBest, f_regression, mutual_info_regression, f_classif\n",
        "\n",
        "# Spliting the test set\n",
        "train_df, val_df = train_test_split(train_fe, test_size=0.2)\n",
        "\n",
        "k_best = SelectKBest(score_func=f_regression, k=2)\n",
        "X_train = train_df.drop([target], axis=1)\n",
        "y_train = train_df[target]\n",
        "\n",
        "\n",
        "\n",
        "X_val = val_df.drop([target], axis=1)\n",
        "y_val = val_df[target]\n",
        "\n",
        "X_train_KB = k_best.fit(X_train, y_train)\n",
        "y_train_KB = k_best.fit(X_val, y_val)\n",
        "\n",
        "# Running the model\n",
        "linreg.fit(X_train, y_train)\n",
        "\n",
        "y_val_preds = linreg.predict(X_val)\n",
        "\n",
        "# Calculating the mean absolute error to validate the prediction\n",
        "mae = mean_absolute_error(y_val, y_val_preds)\n",
        "print(f\"Mean Absolute Error {mae: ,}\")"
      ],
      "metadata": {
        "execution": {
          "iopub.status.busy": "2024-02-23T14:29:49.769514Z",
          "iopub.execute_input": "2024-02-23T14:29:49.769931Z",
          "iopub.status.idle": "2024-02-23T14:29:51.055641Z",
          "shell.execute_reply.started": "2024-02-23T14:29:49.769899Z",
          "shell.execute_reply": "2024-02-23T14:29:51.054484Z"
        },
        "trusted": true,
        "id": "qtbdGtVPegJ5"
      },
      "execution_count": null,
      "outputs": []
    }
  ]
}